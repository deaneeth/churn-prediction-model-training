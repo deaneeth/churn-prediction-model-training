{
 "cells": [
  {
   "cell_type": "markdown",
   "id": "eccdcf0e",
   "metadata": {},
   "source": [
    "### 1. Importing dependancies"
   ]
  },
  {
   "cell_type": "code",
   "execution_count": 1,
   "id": "85c1f613",
   "metadata": {},
   "outputs": [],
   "source": [
    "import warnings\n",
    "import numpy as np\n",
    "import pandas as pd\n",
    "import seaborn as sns\n",
    "from matplotlib import pyplot as plt\n",
    "# from sklearn.ensemble import RandomForestClassifier\n",
    "from sklearn.linear_model import LogisticRegression #this is the model we are using here (not deep diving) //derived from sigmoid\n",
    "from sklearn.metrics import (\n",
    "                                classification_report,\n",
    "                                confusion_matrix,\n",
    "                                roc_auc_score,\n",
    "                                accuracy_score,\n",
    "                                roc_curve,\n",
    "                                precision_recall_curve,\n",
    "                                f1_score,\n",
    "                                precision_score,\n",
    "                                recall_score\n",
    "                                )\n",
    "\n",
    "warnings.filterwarnings('ignore')"
   ]
  },
  {
   "cell_type": "markdown",
   "id": "1f16dafa",
   "metadata": {},
   "source": [
    "### 2. Quick Overview on Logistic Regression"
   ]
  },
  {
   "cell_type": "markdown",
   "id": "802d72c9",
   "metadata": {},
   "source": [
    "Y_hat(Z) = 1 / (1 + exp(-Z))\n",
    "\n",
    "P(Y = 1 | X) = Y_hat(Z)"
   ]
  },
  {
   "cell_type": "code",
   "execution_count": 2,
   "id": "6e09cca8",
   "metadata": {},
   "outputs": [],
   "source": [
    "seed = 42\n",
    "np.random.seed(seed)"
   ]
  },
  {
   "cell_type": "code",
   "execution_count": 3,
   "id": "a0d00876",
   "metadata": {},
   "outputs": [
    {
     "data": {
      "image/png": "[encoded data removed]",
      "text/plain": [
       "<Figure size 640x480 with 1 Axes>"
      ]
     },
     "metadata": {},
     "output_type": "display_data"
    }
   ],
   "source": [
    "def sigmoid(Z):\n",
    "    return 1 / (1 + np.exp(-Z))\n",
    "\n",
    "X_linespace = np.linspace(-10, 10, 100)\n",
    "Y_hat = sigmoid(X_linespace)\n",
    "\n",
    "plt.plot(X_linespace, Y_hat)\n",
    "plt.xlabel('Z')\n",
    "plt.ylabel('Y_Hat')\n",
    "plt.show()\n"
   ]
  },
  {
   "cell_type": "markdown",
   "id": "836efdcb",
   "metadata": {},
   "source": [
    "### 3. Loading the Data"
   ]
  },
  {
   "cell_type": "code",
   "execution_count": 4,
   "id": "ca17e15a",
   "metadata": {},
   "outputs": [],
   "source": [
    "X_train = np.load('artifacts\\X_train.npz') ['arr_0']\n",
    "Y_train = np.load('artifacts\\Y_train.npz')  ['arr_0']\n",
    "X_test = np.load('artifacts\\X_test.npz')  ['arr_0']\n",
    "Y_test = np.load('artifacts\\Y_test.npz')  ['arr_0']"
   ]
  },
  {
   "cell_type": "markdown",
   "id": "86dc7fe0",
   "metadata": {},
   "source": [
    "### 4. Training the Model"
   ]
  },
  {
   "cell_type": "code",
   "execution_count": 5,
   "id": "7a46a7cc",
   "metadata": {},
   "outputs": [
    {
     "data": {
      "text/html": [
       "<style>#sk-container-id-1 {color: black;}#sk-container-id-1 pre{padding: 0;}#sk-container-id-1 div.sk-toggleable {background-color: white;}#sk-container-id-1 label.sk-toggleable__label {cursor: pointer;display: block;width: 100%;margin-bottom: 0;padding: 0.3em;box-sizing: border-box;text-align: center;}#sk-container-id-1 label.sk-toggleable__label-arrow:before {content: \"▸\";float: left;margin-right: 0.25em;color: #696969;}#sk-container-id-1 label.sk-toggleable__label-arrow:hover:before {color: black;}#sk-container-id-1 div.sk-estimator:hover label.sk-toggleable__label-arrow:before {color: black;}#sk-container-id-1 div.sk-toggleable__content {max-height: 0;max-width: 0;overflow: hidden;text-align: left;background-color: #f0f8ff;}#sk-container-id-1 div.sk-toggleable__content pre {margin: 0.2em;color: black;border-radius: 0.25em;background-color: #f0f8ff;}#sk-container-id-1 input.sk-toggleable__control:checked~div.sk-toggleable__content {max-height: 200px;max-width: 100%;overflow: auto;}#sk-container-id-1 input.sk-toggleable__control:checked~label.sk-toggleable__label-arrow:before {content: \"▾\";}#sk-container-id-1 div.sk-estimator input.sk-toggleable__control:checked~label.sk-toggleable__label {background-color: #d4ebff;}#sk-container-id-1 div.sk-label input.sk-toggleable__control:checked~label.sk-toggleable__label {background-color: #d4ebff;}#sk-container-id-1 input.sk-hidden--visually {border: 0;clip: rect(1px 1px 1px 1px);clip: rect(1px, 1px, 1px, 1px);height: 1px;margin: -1px;overflow: hidden;padding: 0;position: absolute;width: 1px;}#sk-container-id-1 div.sk-estimator {font-family: monospace;background-color: #f0f8ff;border: 1px dotted black;border-radius: 0.25em;box-sizing: border-box;margin-bottom: 0.5em;}#sk-container-id-1 div.sk-estimator:hover {background-color: #d4ebff;}#sk-container-id-1 div.sk-parallel-item::after {content: \"\";width: 100%;border-bottom: 1px solid gray;flex-grow: 1;}#sk-container-id-1 div.sk-label:hover label.sk-toggleable__label {background-color: #d4ebff;}#sk-container-id-1 div.sk-serial::before {content: \"\";position: absolute;border-left: 1px solid gray;box-sizing: border-box;top: 0;bottom: 0;left: 50%;z-index: 0;}#sk-container-id-1 div.sk-serial {display: flex;flex-direction: column;align-items: center;background-color: white;padding-right: 0.2em;padding-left: 0.2em;position: relative;}#sk-container-id-1 div.sk-item {position: relative;z-index: 1;}#sk-container-id-1 div.sk-parallel {display: flex;align-items: stretch;justify-content: center;background-color: white;position: relative;}#sk-container-id-1 div.sk-item::before, #sk-container-id-1 div.sk-parallel-item::before {content: \"\";position: absolute;border-left: 1px solid gray;box-sizing: border-box;top: 0;bottom: 0;left: 50%;z-index: -1;}#sk-container-id-1 div.sk-parallel-item {display: flex;flex-direction: column;z-index: 1;position: relative;background-color: white;}#sk-container-id-1 div.sk-parallel-item:first-child::after {align-self: flex-end;width: 50%;}#sk-container-id-1 div.sk-parallel-item:last-child::after {align-self: flex-start;width: 50%;}#sk-container-id-1 div.sk-parallel-item:only-child::after {width: 0;}#sk-container-id-1 div.sk-dashed-wrapped {border: 1px dashed gray;margin: 0 0.4em 0.5em 0.4em;box-sizing: border-box;padding-bottom: 0.4em;background-color: white;}#sk-container-id-1 div.sk-label label {font-family: monospace;font-weight: bold;display: inline-block;line-height: 1.2em;}#sk-container-id-1 div.sk-label-container {text-align: center;}#sk-container-id-1 div.sk-container {/* jupyter's `normalize.less` sets `[hidden] { display: none; }` but bootstrap.min.css set `[hidden] { display: none !important; }` so we also need the `!important` here to be able to override the default hidden behavior on the sphinx rendered scikit-learn.org. See: https://github.com/scikit-learn/scikit-learn/issues/21755 */display: inline-block !important;position: relative;}#sk-container-id-1 div.sk-text-repr-fallback {display: none;}</style><div id=\"sk-container-id-1\" class=\"sk-top-container\"><div class=\"sk-text-repr-fallback\"><pre>LogisticRegression(max_iter=1000, random_state=42)</pre><b>In a Jupyter environment, please rerun this cell to show the HTML representation or trust the notebook. <br />On GitHub, the HTML representation is unable to render, please try loading this page with nbviewer.org.</b></div><div class=\"sk-container\" hidden><div class=\"sk-item\"><div class=\"sk-estimator sk-toggleable\"><input class=\"sk-toggleable__control sk-hidden--visually\" id=\"sk-estimator-id-1\" type=\"checkbox\" checked><label for=\"sk-estimator-id-1\" class=\"sk-toggleable__label sk-toggleable__label-arrow\">LogisticRegression</label><div class=\"sk-toggleable__content\"><pre>LogisticRegression(max_iter=1000, random_state=42)</pre></div></div></div></div></div>"
      ],
      "text/plain": [
       "LogisticRegression(max_iter=1000, random_state=42)"
      ]
     },
     "execution_count": 5,
     "metadata": {},
     "output_type": "execute_result"
    }
   ],
   "source": [
    "model_lr = LogisticRegression(\n",
    "                                random_state = 42, #random seed means that if you do random operations if you are not setting a state it will always produce different results\n",
    "                                max_iter = 1000  #how many iterations //if increase training time might be bit high\n",
    "                                )\n",
    "\n",
    "model_lr.fit(X_train, Y_train) "
   ]
  },
  {
   "cell_type": "markdown",
   "id": "49fa7818",
   "metadata": {},
   "source": [
    "### 6. Inference"
   ]
  },
  {
   "cell_type": "code",
   "execution_count": 6,
   "id": "82fc4064",
   "metadata": {},
   "outputs": [],
   "source": [
    "Y_hat_train = model_lr.predict(X_train)\n",
    "Y_hat_test = model_lr.predict(X_test)"
   ]
  },
  {
   "cell_type": "code",
   "execution_count": 7,
   "id": "1dcf378d",
   "metadata": {},
   "outputs": [
    {
     "data": {
      "text/plain": [
       "array([0, 0, 0, ..., 0, 0, 1], dtype=int64)"
      ]
     },
     "execution_count": 7,
     "metadata": {},
     "output_type": "execute_result"
    }
   ],
   "source": [
    "Y_hat_test"
   ]
  },
  {
   "cell_type": "markdown",
   "id": "2b41a81d",
   "metadata": {},
   "source": [
    "#### Alternative way (probabiloty values)\n",
    "\n",
    "- if you want to get the probability, in sigmoid it always gives probability values.\n",
    "- the logic is if the Y_hat probability more than 0.5 we consider it as '1' (churn), if its less than 0.5 its '0' (retain/non-churn)"
   ]
  },
  {
   "cell_type": "code",
   "execution_count": 8,
   "id": "f8457542",
   "metadata": {},
   "outputs": [],
   "source": [
    "Y_proba_train = model_lr.predict_proba(X_train)\n",
    "Y_proba_test = model_lr.predict_proba(X_test)"
   ]
  },
  {
   "cell_type": "code",
   "execution_count": 9,
   "id": "3eb81cdb",
   "metadata": {},
   "outputs": [
    {
     "data": {
      "text/plain": [
       "array([[0.83191774, 0.16808226],\n",
       "       [0.91485291, 0.08514709],\n",
       "       [0.74754112, 0.25245888],\n",
       "       ...,\n",
       "       [0.46464907, 0.53535093],\n",
       "       [0.36871924, 0.63128076],\n",
       "       [0.70486062, 0.29513938]])"
      ]
     },
     "execution_count": 9,
     "metadata": {},
     "output_type": "execute_result"
    }
   ],
   "source": [
    "Y_proba_train"
   ]
  },
  {
   "cell_type": "markdown",
   "id": "701717bb",
   "metadata": {},
   "source": [
    "### 7. Evaluation"
   ]
  },
  {
   "cell_type": "code",
   "execution_count": 10,
   "id": "fa011ec4",
   "metadata": {},
   "outputs": [],
   "source": [
    "accuracy = accuracy_score(Y_test, Y_hat_test)\n",
    "precision = precision_score(Y_test, Y_hat_test)\n",
    "recall = recall_score(Y_test, Y_hat_test)\n",
    "f1_score = f1_score(Y_test, Y_hat_test)"
   ]
  },
  {
   "cell_type": "code",
   "execution_count": 12,
   "id": "a1a42785",
   "metadata": {},
   "outputs": [
    {
     "name": "stdout",
     "output_type": "stream",
     "text": [
      "accuracy: 0.6948474237118559\n",
      "precision: 0.33884297520661155\n",
      "recall: 0.6542553191489362\n",
      "f1_score: 0.44646098003629764\n"
     ]
    }
   ],
   "source": [
    "print(f\"accuracy: {accuracy}\")\n",
    "print(f\"precision: {precision}\")\n",
    "print(f\"recall: {recall}\")\n",
    "print(f\"f1_score: {f1_score}\")\n",
    "\n",
    "# these values are anyway bad, you cant actually tell the performance of the model by these. because we dont know how this will perform class wise."
   ]
  },
  {
   "cell_type": "code",
   "execution_count": 13,
   "id": "3f35db47",
   "metadata": {},
   "outputs": [
    {
     "data": {
      "image/png": "[encoded data removed]",
      "text/plain": [
       "<Figure size 640x480 with 2 Axes>"
      ]
     },
     "metadata": {},
     "output_type": "display_data"
    }
   ],
   "source": [
    "cm = confusion_matrix(Y_test, Y_hat_test)\n",
    "sns.heatmap(cm, annot=True, fmt='d')\n",
    "plt.xlabel('Predicted')\n",
    "plt.ylabel('Actual')\n",
    "\n",
    "plt.show()"
   ]
  },
  {
   "cell_type": "markdown",
   "id": "6cdb4ae5",
   "metadata": {},
   "source": [
    "its like this:\n",
    "\n",
    "1. when 'actual' value is '0', model predicted it as '0' would be = 1143 values (True Negative)\n",
    "2. when 'actual' value is '0', model predicted it as '1' would be = 480 values (False Positive)\n",
    "3. when 'actual' value is '1', model predicted it as '0' would be = 130 values (False Negative)\n",
    "4. when 'actual' value is '1', model predicted it as '1' would be = 246 values (True Positive)"
   ]
  }
 ],
 "metadata": {
  "kernelspec": {
   "display_name": "newone",
   "language": "python",
   "name": "python3"
  },
  "language_info": {
   "codemirror_mode": {
    "name": "ipython",
    "version": 3
   },
   "file_extension": ".py",
   "mimetype": "text/x-python",
   "name": "python",
   "nbconvert_exporter": "python",
   "pygments_lexer": "ipython3",
   "version": "3.11.13"
  }
 },
 "nbformat": 4,
 "nbformat_minor": 5
}
