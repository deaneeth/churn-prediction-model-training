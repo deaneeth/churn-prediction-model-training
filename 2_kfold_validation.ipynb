{
 "cells": [
  {
   "cell_type": "code",
   "execution_count": 21,
   "id": "97825992",
   "metadata": {},
   "outputs": [
    {
     "data": {
      "text/plain": [
       "\"\\n\\nFull dataset\\n--------------------------------------------------------------------------------------------------------------------------------------------------------\\n|                                                                                                                                                      |\\n--------------------------------------------------------------------------------------------------------------------------------------------------------\\n\\nRegular Splitting\\n--------------------------------------------------------------------------------------------------------------------------------------------------------\\n|                                        70%                                                          |             15%         |         15%          |\\n--------------------------------------------------------------------------------------------------------------------------------------------------------\\n\\nCross-Validation (this is a KFold - this specific one would be 8 Fold validation)\\n--------------------------------------------------------------------------------------------------------------------------------------------------------\\n|       1        |          2        |         3        |           4        |          5        |         6         |         7        |      8       |\\n--------------------------------------------------------------------------------------------------------------------------------------------------------\\n\\n1. '1' would be the validation set and others would be the training set\\n2. '2' would be the validation set and others would be the training set\\n3. '3' would be the validation set and others would be the training set\\n.\\n.\\n.\\n8. '8' would be the validation set and others would be the training set\\n\\n\""
      ]
     },
     "execution_count": 21,
     "metadata": {},
     "output_type": "execute_result"
    }
   ],
   "source": [
    "\"\"\"\n",
    "\n",
    "Full dataset\n",
    "--------------------------------------------------------------------------------------------------------------------------------------------------------\n",
    "|                                                                                                                                                      |\n",
    "--------------------------------------------------------------------------------------------------------------------------------------------------------\n",
    "\n",
    "Regular Splitting\n",
    "--------------------------------------------------------------------------------------------------------------------------------------------------------\n",
    "|                                        70%                                                          |             15%         |         15%          |\n",
    "--------------------------------------------------------------------------------------------------------------------------------------------------------\n",
    "\n",
    "Cross-Validation (this is a KFold - this specific one would be 8 Fold validation)\n",
    "--------------------------------------------------------------------------------------------------------------------------------------------------------\n",
    "|       1        |          2        |         3        |           4        |          5        |         6         |         7        |      8       |\n",
    "--------------------------------------------------------------------------------------------------------------------------------------------------------\n",
    "\n",
    "1. '1' would be the validation set and others would be the training set\n",
    "2. '2' would be the validation set and others would be the training set\n",
    "3. '3' would be the validation set and others would be the training set\n",
    ".\n",
    ".\n",
    ".\n",
    "8. '8' would be the validation set and others would be the training set\n",
    "\n",
    "\"\"\""
   ]
  },
  {
   "cell_type": "markdown",
   "id": "8db0c03e",
   "metadata": {},
   "source": [
    "### 1. Importing Dependancies"
   ]
  },
  {
   "cell_type": "code",
   "execution_count": 17,
   "id": "a0c106b1",
   "metadata": {},
   "outputs": [],
   "source": [
    "import warnings\n",
    "import numpy as np\n",
    "import pandas as pd\n",
    "import seaborn as sns\n",
    "from matplotlib import pyplot as plt\n",
    "from sklearn.linear_model import LogisticRegression #this is the model we are using here (not deep diving) //derived from sigmoid\n",
    "from sklearn.model_selection import (\n",
    "                                StratifiedKFold,\n",
    "                                cross_validate\n",
    "                                )\n",
    "from sklearn.metrics import (\n",
    "                                confusion_matrix,\n",
    "                                f1_score,\n",
    "                                accuracy_score,\n",
    "                                precision_score,\n",
    "                                recall_score\n",
    "                                )\n",
    "\n",
    "\n",
    "warnings.filterwarnings('ignore')"
   ]
  },
  {
   "cell_type": "markdown",
   "id": "818f35e3",
   "metadata": {},
   "source": [
    "### 2. Loading the Data"
   ]
  },
  {
   "cell_type": "code",
   "execution_count": 2,
   "id": "62dcb75e",
   "metadata": {},
   "outputs": [],
   "source": [
    "X_train = np.load('artifacts\\X_train.npz') ['arr_0']\n",
    "Y_train = np.load('artifacts\\Y_train.npz')  ['arr_0']\n",
    "X_test = np.load('artifacts\\X_test.npz')  ['arr_0']\n",
    "Y_test = np.load('artifacts\\Y_test.npz')  ['arr_0']"
   ]
  },
  {
   "cell_type": "markdown",
   "id": "ce0c4ae2",
   "metadata": {},
   "source": [
    "### 3. Configure K-Fold CV"
   ]
  },
  {
   "cell_type": "code",
   "execution_count": 3,
   "id": "fd4d83d3",
   "metadata": {},
   "outputs": [],
   "source": [
    "# cv = cross-validation\n",
    "\n",
    "cv = StratifiedKFold(\n",
    "                        n_splits=6,\n",
    "                        random_state=42,\n",
    "                        shuffle=True #by shuffling you make the operation more random, that means better performance\n",
    ")"
   ]
  },
  {
   "cell_type": "code",
   "execution_count": 4,
   "id": "15674d5e",
   "metadata": {},
   "outputs": [],
   "source": [
    "model_lr = LogisticRegression(\n",
    "                                random_state = 42,\n",
    "                                max_iter = 1000\n",
    "                                )"
   ]
  },
  {
   "cell_type": "code",
   "execution_count": 5,
   "id": "39b356a4",
   "metadata": {},
   "outputs": [],
   "source": [
    "cv_results = cross_validate(\n",
    "                            model_lr,\n",
    "                            X_train,\n",
    "                            Y_train,\n",
    "                            cv=cv, scoring='accuracy',\n",
    "                            return_train_score=True\n",
    "                            )"
   ]
  },
  {
   "cell_type": "code",
   "execution_count": 6,
   "id": "377e1300",
   "metadata": {},
   "outputs": [
    {
     "data": {
      "text/plain": [
       "{'fit_time': array([0.03396082, 0.01998305, 0.01798463, 0.01798487, 0.02100754,\n",
       "        0.01954675]),\n",
       " 'score_time': array([0.        , 0.00099754, 0.00101662, 0.00099897, 0.00099921,\n",
       "        0.00116968]),\n",
       " 'test_score': array([0.73816288, 0.71117424, 0.73235433, 0.7408811 , 0.72666982,\n",
       "        0.73519659]),\n",
       " 'train_score': array([0.73001137, 0.73484274, 0.73013167, 0.72927915, 0.73363645,\n",
       "        0.72927915])}"
      ]
     },
     "execution_count": 6,
     "metadata": {},
     "output_type": "execute_result"
    }
   ],
   "source": [
    "cv_results"
   ]
  },
  {
   "cell_type": "code",
   "execution_count": 7,
   "id": "c9a38d0b",
   "metadata": {},
   "outputs": [
    {
     "name": "stdout",
     "output_type": "stream",
     "text": [
      "accuracy : 0.7307398281129629\n",
      "precision : 0.7288789340436259\n",
      "recall : 0.7349243321844033\n",
      "f1 : 0.731872171052841\n"
     ]
    }
   ],
   "source": [
    "score_array = ['accuracy', 'precision', 'recall', 'f1']\n",
    "\n",
    "for score in score_array:\n",
    "    cv_results = cross_validate(\n",
    "                                model_lr,\n",
    "                                X_train,\n",
    "                                Y_train,\n",
    "                                cv=cv,\n",
    "                                scoring=score,  # also fix this to use 'score', not 'accuracy'\n",
    "                                return_train_score=False\n",
    "                                )   \n",
    "    \n",
    "    test_score = cv_results['test_score']\n",
    "\n",
    "    test_score_avg = np.mean(test_score)\n",
    "    print(f\"{score} : {test_score_avg}\")\n"
   ]
  },
  {
   "cell_type": "code",
   "execution_count": 8,
   "id": "ac84d62e",
   "metadata": {},
   "outputs": [
    {
     "data": {
      "text/plain": [
       "{'fit_time': array([0.03101182, 0.02050114, 0.02000785, 0.02041006, 0.02097869,\n",
       "        0.02198911]),\n",
       " 'score_time': array([0.00202298, 0.00150537, 0.00200534, 0.00202131, 0.00201988,\n",
       "        0.00202012]),\n",
       " 'test_score': array([0.73729216, 0.71280603, 0.73436765, 0.74063537, 0.72795851,\n",
       "        0.7381733 ])}"
      ]
     },
     "execution_count": 8,
     "metadata": {},
     "output_type": "execute_result"
    }
   ],
   "source": [
    "cv_results = cross_validate(\n",
    "                                model_lr,\n",
    "                                X_train,\n",
    "                                Y_train,\n",
    "                                cv=cv,\n",
    "                                scoring='f1',  # also fix this to use 'f1', beacuse dependig on f1 score is reliable rather than accuracy\n",
    "                                return_train_score=False\n",
    "                                )  \n",
    "\n",
    "cv_results"
   ]
  },
  {
   "cell_type": "markdown",
   "id": "2acf8493",
   "metadata": {},
   "source": [
    "in here in the 'test_score' array:\n",
    "\n",
    "- `0.73729216` means that this is the f1 score in the 1st split in the 6 Fold validation setup\n",
    "- `0.73729216` means that this is the f1 score in the 2nd split in the 6 Fold validation setup\n",
    "- `0.73436765` means that this is the f1 score in the 3rd split in the 6 Fold validation setup\n",
    "- `0.74063537` means that this is the f1 score in the 4th split in the 6 Fold validation setup\n",
    "- `0.72795851` means that this is the f1 score in the 5th split in the 6 Fold validation setup\n",
    "- `0.7381733` means that this is the f1 score in the 6th split in the 6 Fold validation setup\n",
    "\n",
    "so we can get an idea which split is the split that the model performing at the best"
   ]
  },
  {
   "cell_type": "code",
   "execution_count": 9,
   "id": "129f1184",
   "metadata": {},
   "outputs": [
    {
     "data": {
      "text/plain": [
       "[(array([    0,     1,     2, ..., 12665, 12666, 12667]),\n",
       "  array([    5,    15,    23, ..., 12655, 12658, 12663])),\n",
       " (array([    2,     3,     5, ..., 12664, 12665, 12667]),\n",
       "  array([    0,     1,     4, ..., 12651, 12661, 12666])),\n",
       " (array([    0,     1,     3, ..., 12665, 12666, 12667]),\n",
       "  array([    2,    10,    18, ..., 12653, 12659, 12664])),\n",
       " (array([    0,     1,     2, ..., 12664, 12666, 12667]),\n",
       "  array([   11,    13,    22, ..., 12646, 12656, 12665])),\n",
       " (array([    0,     1,     2, ..., 12665, 12666, 12667]),\n",
       "  array([    6,     7,     8, ..., 12648, 12657, 12660])),\n",
       " (array([    0,     1,     2, ..., 12664, 12665, 12666]),\n",
       "  array([    3,    16,    24, ..., 12654, 12662, 12667]))]"
      ]
     },
     "execution_count": 9,
     "metadata": {},
     "output_type": "execute_result"
    }
   ],
   "source": [
    "best_index = np.argmax(cv_results['test_score']) #after that we can get the best index from here (that has the best f1 score)\n",
    "\n",
    "fold_indices = list(cv.split(X_train, Y_train))  #from this we can get all the indexes\n",
    "fold_indices"
   ]
  },
  {
   "cell_type": "code",
   "execution_count": 10,
   "id": "11798b4d",
   "metadata": {},
   "outputs": [
    {
     "data": {
      "text/plain": [
       "(array([    0,     1,     2, ..., 12664, 12666, 12667]),\n",
       " array([    0,     1,     2, ..., 12664, 12666, 12667]))"
      ]
     },
     "execution_count": 10,
     "metadata": {},
     "output_type": "execute_result"
    }
   ],
   "source": [
    "best_train_idx, best_text_idx = fold_indices[best_index]\n",
    "best_train_idx, best_train_idx\n",
    "\n",
    "# this train index means the 5 splits from the train test (its creating internally not externally)"
   ]
  },
  {
   "cell_type": "code",
   "execution_count": 12,
   "id": "ae76059c",
   "metadata": {},
   "outputs": [],
   "source": [
    "best_train_idx, best_text_idx = fold_indices[best_index]\n",
    "\n",
    "X_train_best = X_train[best_train_idx]\n",
    "Y_train_best = Y_train[best_train_idx]\n",
    "X_test_best = X_train[best_train_idx]\n",
    "Y_test_best = Y_train[best_train_idx]"
   ]
  },
  {
   "cell_type": "code",
   "execution_count": 51,
   "id": "8b2a2f32",
   "metadata": {},
   "outputs": [
    {
     "data": {
      "text/plain": [
       "12668"
      ]
     },
     "execution_count": 51,
     "metadata": {},
     "output_type": "execute_result"
    }
   ],
   "source": [
    "len(X_train)"
   ]
  },
  {
   "cell_type": "code",
   "execution_count": 13,
   "id": "c42e24b0",
   "metadata": {},
   "outputs": [
    {
     "data": {
      "text/html": [
       "<style>#sk-container-id-1 {color: black;}#sk-container-id-1 pre{padding: 0;}#sk-container-id-1 div.sk-toggleable {background-color: white;}#sk-container-id-1 label.sk-toggleable__label {cursor: pointer;display: block;width: 100%;margin-bottom: 0;padding: 0.3em;box-sizing: border-box;text-align: center;}#sk-container-id-1 label.sk-toggleable__label-arrow:before {content: \"▸\";float: left;margin-right: 0.25em;color: #696969;}#sk-container-id-1 label.sk-toggleable__label-arrow:hover:before {color: black;}#sk-container-id-1 div.sk-estimator:hover label.sk-toggleable__label-arrow:before {color: black;}#sk-container-id-1 div.sk-toggleable__content {max-height: 0;max-width: 0;overflow: hidden;text-align: left;background-color: #f0f8ff;}#sk-container-id-1 div.sk-toggleable__content pre {margin: 0.2em;color: black;border-radius: 0.25em;background-color: #f0f8ff;}#sk-container-id-1 input.sk-toggleable__control:checked~div.sk-toggleable__content {max-height: 200px;max-width: 100%;overflow: auto;}#sk-container-id-1 input.sk-toggleable__control:checked~label.sk-toggleable__label-arrow:before {content: \"▾\";}#sk-container-id-1 div.sk-estimator input.sk-toggleable__control:checked~label.sk-toggleable__label {background-color: #d4ebff;}#sk-container-id-1 div.sk-label input.sk-toggleable__control:checked~label.sk-toggleable__label {background-color: #d4ebff;}#sk-container-id-1 input.sk-hidden--visually {border: 0;clip: rect(1px 1px 1px 1px);clip: rect(1px, 1px, 1px, 1px);height: 1px;margin: -1px;overflow: hidden;padding: 0;position: absolute;width: 1px;}#sk-container-id-1 div.sk-estimator {font-family: monospace;background-color: #f0f8ff;border: 1px dotted black;border-radius: 0.25em;box-sizing: border-box;margin-bottom: 0.5em;}#sk-container-id-1 div.sk-estimator:hover {background-color: #d4ebff;}#sk-container-id-1 div.sk-parallel-item::after {content: \"\";width: 100%;border-bottom: 1px solid gray;flex-grow: 1;}#sk-container-id-1 div.sk-label:hover label.sk-toggleable__label {background-color: #d4ebff;}#sk-container-id-1 div.sk-serial::before {content: \"\";position: absolute;border-left: 1px solid gray;box-sizing: border-box;top: 0;bottom: 0;left: 50%;z-index: 0;}#sk-container-id-1 div.sk-serial {display: flex;flex-direction: column;align-items: center;background-color: white;padding-right: 0.2em;padding-left: 0.2em;position: relative;}#sk-container-id-1 div.sk-item {position: relative;z-index: 1;}#sk-container-id-1 div.sk-parallel {display: flex;align-items: stretch;justify-content: center;background-color: white;position: relative;}#sk-container-id-1 div.sk-item::before, #sk-container-id-1 div.sk-parallel-item::before {content: \"\";position: absolute;border-left: 1px solid gray;box-sizing: border-box;top: 0;bottom: 0;left: 50%;z-index: -1;}#sk-container-id-1 div.sk-parallel-item {display: flex;flex-direction: column;z-index: 1;position: relative;background-color: white;}#sk-container-id-1 div.sk-parallel-item:first-child::after {align-self: flex-end;width: 50%;}#sk-container-id-1 div.sk-parallel-item:last-child::after {align-self: flex-start;width: 50%;}#sk-container-id-1 div.sk-parallel-item:only-child::after {width: 0;}#sk-container-id-1 div.sk-dashed-wrapped {border: 1px dashed gray;margin: 0 0.4em 0.5em 0.4em;box-sizing: border-box;padding-bottom: 0.4em;background-color: white;}#sk-container-id-1 div.sk-label label {font-family: monospace;font-weight: bold;display: inline-block;line-height: 1.2em;}#sk-container-id-1 div.sk-label-container {text-align: center;}#sk-container-id-1 div.sk-container {/* jupyter's `normalize.less` sets `[hidden] { display: none; }` but bootstrap.min.css set `[hidden] { display: none !important; }` so we also need the `!important` here to be able to override the default hidden behavior on the sphinx rendered scikit-learn.org. See: https://github.com/scikit-learn/scikit-learn/issues/21755 */display: inline-block !important;position: relative;}#sk-container-id-1 div.sk-text-repr-fallback {display: none;}</style><div id=\"sk-container-id-1\" class=\"sk-top-container\"><div class=\"sk-text-repr-fallback\"><pre>LogisticRegression(max_iter=1000, random_state=42)</pre><b>In a Jupyter environment, please rerun this cell to show the HTML representation or trust the notebook. <br />On GitHub, the HTML representation is unable to render, please try loading this page with nbviewer.org.</b></div><div class=\"sk-container\" hidden><div class=\"sk-item\"><div class=\"sk-estimator sk-toggleable\"><input class=\"sk-toggleable__control sk-hidden--visually\" id=\"sk-estimator-id-1\" type=\"checkbox\" checked><label for=\"sk-estimator-id-1\" class=\"sk-toggleable__label sk-toggleable__label-arrow\">LogisticRegression</label><div class=\"sk-toggleable__content\"><pre>LogisticRegression(max_iter=1000, random_state=42)</pre></div></div></div></div></div>"
      ],
      "text/plain": [
       "LogisticRegression(max_iter=1000, random_state=42)"
      ]
     },
     "execution_count": 13,
     "metadata": {},
     "output_type": "execute_result"
    }
   ],
   "source": [
    "model_lr = LogisticRegression(\n",
    "                                random_state = 42, #random seed means that if you do random operations if you are not setting a state it will always produce different results\n",
    "                                max_iter = 1000  #how many iterations //if increase training time might be bit high\n",
    "                                )\n",
    "\n",
    "model_lr.fit(X_train_best, Y_train_best) "
   ]
  },
  {
   "cell_type": "code",
   "execution_count": 14,
   "id": "e48987d1",
   "metadata": {},
   "outputs": [],
   "source": [
    "Y_hat_train = model_lr.predict(X_train)\n",
    "Y_hat_test = model_lr.predict(X_test)"
   ]
  },
  {
   "cell_type": "code",
   "execution_count": 18,
   "id": "219a30cd",
   "metadata": {},
   "outputs": [],
   "source": [
    "accuracy = accuracy_score(Y_test, Y_hat_test)\n",
    "precision = precision_score(Y_test, Y_hat_test)\n",
    "recall = recall_score(Y_test, Y_hat_test)\n",
    "f1_score = f1_score(Y_test, Y_hat_test)"
   ]
  },
  {
   "cell_type": "code",
   "execution_count": null,
   "id": "a91d03bc",
   "metadata": {},
   "outputs": [
    {
     "name": "stdout",
     "output_type": "stream",
     "text": [
      "accuracy: 0.6948474237118559\n",
      "precision: 0.3392857142857143\n",
      "recall: 0.6569148936170213\n",
      "f1_score: 0.4474637681159421\n"
     ]
    }
   ],
   "source": [
    "print(f\"accuracy: {accuracy}\")\n",
    "print(f\"precision: {precision}\")\n",
    "print(f\"recall: {recall}\")\n",
    "print(f\"f1_score: {f1_score}\")"
   ]
  },
  {
   "cell_type": "code",
   "execution_count": 20,
   "id": "611f138f",
   "metadata": {},
   "outputs": [
    {
     "data": {
      "image/png": "[encoded data removed]",
      "text/plain": [
       "<Figure size 640x480 with 2 Axes>"
      ]
     },
     "metadata": {},
     "output_type": "display_data"
    }
   ],
   "source": [
    "cm = confusion_matrix(Y_test, Y_hat_test)\n",
    "sns.heatmap(cm, annot=True, fmt='d')\n",
    "plt.xlabel('Predicted')\n",
    "plt.ylabel('Actual')\n",
    "\n",
    "plt.show()"
   ]
  },
  {
   "cell_type": "markdown",
   "id": "bf652425",
   "metadata": {},
   "source": [
    "its not imporved a lot because logistic regression is a very weak model."
   ]
  }
 ],
 "metadata": {
  "kernelspec": {
   "display_name": "newone",
   "language": "python",
   "name": "python3"
  },
  "language_info": {
   "codemirror_mode": {
    "name": "ipython",
    "version": 3
   },
   "file_extension": ".py",
   "mimetype": "text/x-python",
   "name": "python",
   "nbconvert_exporter": "python",
   "pygments_lexer": "ipython3",
   "version": "3.11.13"
  }
 },
 "nbformat": 4,
 "nbformat_minor": 5
}
