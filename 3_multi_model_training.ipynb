{
 "cells": [
  {
   "cell_type": "markdown",
   "id": "550482f3",
   "metadata": {},
   "source": [
    "### 1. Importing Dependancies"
   ]
  },
  {
   "cell_type": "code",
   "execution_count": 15,
   "id": "23fc8337",
   "metadata": {},
   "outputs": [],
   "source": [
    "import joblib\n",
    "import warnings\n",
    "import numpy as np\n",
    "import pandas as pd\n",
    "import seaborn as sns\n",
    "from matplotlib import pyplot as plt\n",
    "from sklearn.ensemble import RandomForestClassifier\n",
    "from sklearn.linear_model import LogisticRegression\n",
    "from sklearn.tree import DecisionTreeClassifier\n",
    "from sklearn.model_selection import (\n",
    "                                StratifiedKFold,\n",
    "                                cross_validate\n",
    "                                )\n",
    "from sklearn.metrics import(\n",
    "                            confusion_matrix\n",
    ")\n",
    "\n",
    "warnings.filterwarnings('ignore')"
   ]
  },
  {
   "cell_type": "markdown",
   "id": "3bc4e360",
   "metadata": {},
   "source": [
    "now we are trying to train multiple models with the base model we currently have to understand the performance"
   ]
  },
  {
   "cell_type": "markdown",
   "id": "c3b9c881",
   "metadata": {},
   "source": [
    "### 2. Loading the Data"
   ]
  },
  {
   "cell_type": "code",
   "execution_count": 2,
   "id": "e4aecc7e",
   "metadata": {},
   "outputs": [],
   "source": [
    "X_train = np.load('artifacts\\X_train.npz') ['arr_0']\n",
    "Y_train = np.load('artifacts\\Y_train.npz')  ['arr_0']\n",
    "X_test = np.load('artifacts\\X_test.npz')  ['arr_0']\n",
    "Y_test = np.load('artifacts\\Y_test.npz')  ['arr_0']"
   ]
  },
  {
   "cell_type": "markdown",
   "id": "71d1b2f5",
   "metadata": {},
   "source": [
    "### 3. Define Multi Models"
   ]
  },
  {
   "cell_type": "code",
   "execution_count": 3,
   "id": "24ca7071",
   "metadata": {},
   "outputs": [],
   "source": [
    "models = {\n",
    "            'Logistic Regression' : LogisticRegression(),\n",
    "            'Decision Tree' : DecisionTreeClassifier() ,\n",
    "            'Random Forrest' : RandomForestClassifier()\n",
    "        }\n",
    "\n",
    "# this is a model dictionary that upper created by defining the models"
   ]
  },
  {
   "cell_type": "markdown",
   "id": "e87ce0d6",
   "metadata": {},
   "source": [
    "### 4. Configure K-Fold CV"
   ]
  },
  {
   "cell_type": "code",
   "execution_count": 4,
   "id": "0477fdb7",
   "metadata": {},
   "outputs": [],
   "source": [
    "# cv = cross-validation\n",
    "\n",
    "cv = StratifiedKFold(\n",
    "                        n_splits=6,\n",
    "                        random_state=42,\n",
    "                        shuffle=True #by shuffling you make the operation more random, that means better performance\n",
    ")"
   ]
  },
  {
   "cell_type": "markdown",
   "id": "c570dd4f",
   "metadata": {},
   "source": [
    "Now we are trying to do is that run the cross validation between these models"
   ]
  },
  {
   "cell_type": "code",
   "execution_count": 7,
   "id": "29d362d5",
   "metadata": {},
   "outputs": [
    {
     "name": "stdout",
     "output_type": "stream",
     "text": [
      "\n",
      "Cross Validation on Logistic Regression\n",
      "{'fit_time': array([0.04534125, 0.03025508, 0.02312899, 0.02361751, 0.02210426,\n",
      "       0.02142715]), 'score_time': array([0.00300097, 0.00208926, 0.00201154, 0.00203371, 0.00200558,\n",
      "       0.00219989]), 'estimator': [LogisticRegression(), LogisticRegression(), LogisticRegression(), LogisticRegression(), LogisticRegression(), LogisticRegression()], 'test_score': array([0.73729216, 0.71280603, 0.73436765, 0.74063537, 0.72795851,\n",
      "       0.7381733 ])}\n",
      "\n",
      "Cross Validation on Decision Tree\n",
      "{'fit_time': array([0.1048069 , 0.08733368, 0.08738422, 0.08663392, 0.08774376,\n",
      "       0.08733296]), 'score_time': array([0.0075655 , 0.00409675, 0.00300837, 0.00206423, 0.00200295,\n",
      "       0.00201368]), 'estimator': [DecisionTreeClassifier(), DecisionTreeClassifier(), DecisionTreeClassifier(), DecisionTreeClassifier(), DecisionTreeClassifier(), DecisionTreeClassifier()], 'test_score': array([0.82214923, 0.81687529, 0.83119353, 0.82616822, 0.83074022,\n",
      "       0.82961557])}\n",
      "\n",
      "Cross Validation on Random Forrest\n",
      "{'fit_time': array([2.30056858, 2.29607153, 2.27079058, 2.26405597, 2.26851654,\n",
      "       2.29817271]), 'score_time': array([0.03682113, 0.04099989, 0.04017878, 0.03799725, 0.03708506,\n",
      "       0.03701496]), 'estimator': [RandomForestClassifier(), RandomForestClassifier(), RandomForestClassifier(), RandomForestClassifier(), RandomForestClassifier(), RandomForestClassifier()], 'test_score': array([0.89538172, 0.89772727, 0.88689915, 0.88561936, 0.88899431,\n",
      "       0.89967028])}\n"
     ]
    }
   ],
   "source": [
    "for model_name, model in models.items():\n",
    "    print(f\"\\nCross Validation on {model_name}\")\n",
    "    \n",
    "    cv_results = cross_validate(\n",
    "                                model,\n",
    "                                X_train,\n",
    "                                Y_train,\n",
    "                                cv=cv,\n",
    "                                scoring='f1',  # also fix this to use 'f1', beacuse dependig on f1 score is reliable rather than accuracy\n",
    "                                return_estimator=True, #if you want to return the best model you can use this argument to 'True', only then you can get the best model\n",
    "                                return_train_score=False\n",
    "                                )  \n",
    "\n",
    "    print(cv_results)  "
   ]
  },
  {
   "cell_type": "code",
   "execution_count": null,
   "id": "b6d71bb7",
   "metadata": {},
   "outputs": [
    {
     "name": "stdout",
     "output_type": "stream",
     "text": [
      "\n",
      "Cross Validation on Logistic Regression\n",
      "[0.73729216 0.71280603 0.73436765 0.74063537 0.72795851 0.7381733 ]\n",
      "LogisticRegression()\n",
      "\n",
      "Cross Validation on Decision Tree\n",
      "[0.82933709 0.81081081 0.84011353 0.83341154 0.83497884 0.8269322 ]\n",
      "DecisionTreeClassifier()\n",
      "\n",
      "Cross Validation on Random Forrest\n",
      "[0.89811321 0.89531028 0.88679245 0.88361045 0.89024965 0.89700997]\n",
      "RandomForestClassifier()\n"
     ]
    }
   ],
   "source": [
    "#we are creating a object(dic) called traiend models\n",
    "trained_models = {}\n",
    "\n",
    "for model_name, model in models.items():\n",
    "    print(f\"\\nCross Validation on {model_name}\")\n",
    "    \n",
    "    cv_results = cross_validate(\n",
    "                                model,\n",
    "                                X_train,\n",
    "                                Y_train,\n",
    "                                cv=cv,\n",
    "                                scoring='f1',  # also fix this to use 'f1', beacuse dependig on f1 score is reliable rather than accuracy\n",
    "                                return_estimator=True, #if you want to return the best model you can use this argument to 'True', only then you can get the best model\n",
    "                                return_train_score=False\n",
    "                                )  \n",
    "\n",
    "    test_scores = cv_results['test_score']\n",
    "    print(test_scores) \n",
    "     \n",
    "    best_index = np.argmax(test_scores)\n",
    "    \n",
    "    estimator = cv_results ['estimator'] [best_index] #from this we are getting the indexes\n",
    "    trained_models[model_name] = estimator #we are using 'model_name' as the key and 'trained_models' as the value. so we are using this to obtain the best models from each 3 types\n",
    "    print(estimator)"
   ]
  },
  {
   "cell_type": "code",
   "execution_count": null,
   "id": "24ec1300",
   "metadata": {},
   "outputs": [
    {
     "data": {
      "text/plain": [
       "{'Logistic Regression': LogisticRegression(),\n",
       " 'Decision Tree': DecisionTreeClassifier(),\n",
       " 'Random Forrest': RandomForestClassifier()}"
      ]
     },
     "execution_count": 14,
     "metadata": {},
     "output_type": "execute_result"
    }
   ],
   "source": [
    "trained_models # there are the best models from each 3 types"
   ]
  },
  {
   "cell_type": "code",
   "execution_count": null,
   "id": "dc87cacc",
   "metadata": {},
   "outputs": [
    {
     "data": {
      "text/plain": [
       "{'Logistic Regression': array([0, 0, 0, ..., 0, 0, 1], dtype=int64),\n",
       " 'Decision Tree': array([0, 1, 0, ..., 0, 0, 1], dtype=int64),\n",
       " 'Random Forrest': array([0, 0, 0, ..., 1, 0, 1], dtype=int64)}"
      ]
     },
     "execution_count": 16,
     "metadata": {},
     "output_type": "execute_result"
    }
   ],
   "source": [
    "# we need to find out the predicted models before confusion matrix\n",
    "\n",
    "Y_hat_tests = {}\n",
    "for model_name, model in trained_models.items():\n",
    "    Y_hat_test = model.predict(X_test)\n",
    "    Y_hat_tests[model_name] = Y_hat_test\n",
    "Y_hat_tests"
   ]
  },
  {
   "cell_type": "code",
   "execution_count": null,
   "id": "9e1659b4",
   "metadata": {},
   "outputs": [],
   "source": [
    "cm1 = confusion_matrix(Y_test, Y_hat_tests['Logistic Regression'])\n",
    "cm2 = confusion_matrix(Y_test, Y_hat_tests['Decision Tree'])\n",
    "cm3 = confusion_matrix(Y_test, Y_hat_tests['Random Forrest'])"
   ]
  },
  {
   "cell_type": "code",
   "execution_count": 23,
   "id": "b7ffeeac",
   "metadata": {},
   "outputs": [
    {
     "data": {
      "image/png": "[encoded data removed]",
      "text/plain": [
       "<Figure size 2000x600 with 6 Axes>"
      ]
     },
     "metadata": {},
     "output_type": "display_data"
    }
   ],
   "source": [
    "fig, (ax1, ax2, ax3) = plt.subplots(1, 3, figsize = (20, 6))\n",
    "\n",
    "sns.heatmap(cm1, annot=True, fmt='d', ax=ax1)\n",
    "ax1.set_title('Logistic Regression')\n",
    "ax1.set_xlabel('Predicted')\n",
    "ax1.set_ylabel('Actual')\n",
    "\n",
    "sns.heatmap(cm2, annot=True, fmt='d', ax=ax2)\n",
    "ax2.set_title('Decision Tree')\n",
    "ax2.set_xlabel('Predicted')\n",
    "ax2.set_ylabel('Actual')\n",
    "\n",
    "sns.heatmap(cm3, annot=True, fmt='d', ax=ax3)\n",
    "ax3.set_title('Random Forrest')\n",
    "ax3.set_xlabel('Predicted')\n",
    "ax3.set_ylabel('Actual')\n",
    "\n",
    "plt.show()"
   ]
  },
  {
   "cell_type": "markdown",
   "id": "51b96b4c",
   "metadata": {},
   "source": [
    "model performance is overall not that good, but comparing to these 3 'Random Forrest' is better."
   ]
  }
 ],
 "metadata": {
  "kernelspec": {
   "display_name": "newone",
   "language": "python",
   "name": "python3"
  },
  "language_info": {
   "codemirror_mode": {
    "name": "ipython",
    "version": 3
   },
   "file_extension": ".py",
   "mimetype": "text/x-python",
   "name": "python",
   "nbconvert_exporter": "python",
   "pygments_lexer": "ipython3",
   "version": "3.11.13"
  }
 },
 "nbformat": 4,
 "nbformat_minor": 5
}
