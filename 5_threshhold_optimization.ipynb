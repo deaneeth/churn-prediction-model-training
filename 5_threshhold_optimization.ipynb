{
 "cells": [
  {
   "cell_type": "markdown",
   "id": "eccdcf0e",
   "metadata": {},
   "source": [
    "### 1. Importing dependancies"
   ]
  },
  {
   "cell_type": "code",
   "execution_count": 4,
   "id": "85c1f613",
   "metadata": {},
   "outputs": [],
   "source": [
    "import warnings\n",
    "import numpy as np\n",
    "import pandas as pd\n",
    "import seaborn as sns\n",
    "from matplotlib import pyplot as plt\n",
    "# from sklearn.ensemble import RandomForestClassifier\n",
    "from sklearn.linear_model import LogisticRegression #this is the model we are using here (not deep diving) //derived from sigmoid\n",
    "from sklearn.metrics import (\n",
    "                                classification_report,\n",
    "                                confusion_matrix,\n",
    "                                roc_auc_score,\n",
    "                                accuracy_score,\n",
    "                                roc_curve,\n",
    "                                precision_recall_curve,\n",
    "                                f1_score,\n",
    "                                precision_score,\n",
    "                                recall_score\n",
    "                                )\n",
    "\n",
    "warnings.filterwarnings('ignore')"
   ]
  },
  {
   "cell_type": "markdown",
   "id": "1f16dafa",
   "metadata": {},
   "source": [
    "### 2. Quick Overview on Logistic Regression"
   ]
  },
  {
   "cell_type": "markdown",
   "id": "802d72c9",
   "metadata": {},
   "source": [
    "Y_hat(Z) = 1 / (1 + exp(-Z))\n",
    "\n",
    "P(Y = 1 | X) = Y_hat(Z)"
   ]
  },
  {
   "cell_type": "code",
   "execution_count": 5,
   "id": "6e09cca8",
   "metadata": {},
   "outputs": [],
   "source": [
    "seed = 42\n",
    "np.random.seed(seed)"
   ]
  },
  {
   "cell_type": "code",
   "execution_count": 6,
   "id": "a0d00876",
   "metadata": {},
   "outputs": [
    {
     "data": {
      "image/png": "[encoded data removed]",
      "text/plain": [
       "<Figure size 640x480 with 1 Axes>"
      ]
     },
     "metadata": {},
     "output_type": "display_data"
    }
   ],
   "source": [
    "def sigmoid(Z):\n",
    "    return 1 / (1 + np.exp(-Z))\n",
    "\n",
    "X_linespace = np.linspace(-10, 10, 100)\n",
    "Y_hat = sigmoid(X_linespace)\n",
    "\n",
    "plt.plot(X_linespace, Y_hat)\n",
    "plt.xlabel('Z')\n",
    "plt.ylabel('Y_Hat')\n",
    "plt.show()\n"
   ]
  },
  {
   "cell_type": "markdown",
   "id": "836efdcb",
   "metadata": {},
   "source": [
    "### 3. Loading the Data"
   ]
  },
  {
   "cell_type": "code",
   "execution_count": 7,
   "id": "ca17e15a",
   "metadata": {},
   "outputs": [],
   "source": [
    "X_train = np.load('artifacts\\X_train.npz') ['arr_0']\n",
    "Y_train = np.load('artifacts\\Y_train.npz')  ['arr_0']\n",
    "X_test = np.load('artifacts\\X_test.npz')  ['arr_0']\n",
    "Y_test = np.load('artifacts\\Y_test.npz')  ['arr_0']"
   ]
  },
  {
   "cell_type": "markdown",
   "id": "86dc7fe0",
   "metadata": {},
   "source": [
    "### 4. Training the Model"
   ]
  },
  {
   "cell_type": "code",
   "execution_count": 8,
   "id": "7a46a7cc",
   "metadata": {},
   "outputs": [
    {
     "data": {
      "text/html": [
       "<style>#sk-container-id-1 {color: black;}#sk-container-id-1 pre{padding: 0;}#sk-container-id-1 div.sk-toggleable {background-color: white;}#sk-container-id-1 label.sk-toggleable__label {cursor: pointer;display: block;width: 100%;margin-bottom: 0;padding: 0.3em;box-sizing: border-box;text-align: center;}#sk-container-id-1 label.sk-toggleable__label-arrow:before {content: \"▸\";float: left;margin-right: 0.25em;color: #696969;}#sk-container-id-1 label.sk-toggleable__label-arrow:hover:before {color: black;}#sk-container-id-1 div.sk-estimator:hover label.sk-toggleable__label-arrow:before {color: black;}#sk-container-id-1 div.sk-toggleable__content {max-height: 0;max-width: 0;overflow: hidden;text-align: left;background-color: #f0f8ff;}#sk-container-id-1 div.sk-toggleable__content pre {margin: 0.2em;color: black;border-radius: 0.25em;background-color: #f0f8ff;}#sk-container-id-1 input.sk-toggleable__control:checked~div.sk-toggleable__content {max-height: 200px;max-width: 100%;overflow: auto;}#sk-container-id-1 input.sk-toggleable__control:checked~label.sk-toggleable__label-arrow:before {content: \"▾\";}#sk-container-id-1 div.sk-estimator input.sk-toggleable__control:checked~label.sk-toggleable__label {background-color: #d4ebff;}#sk-container-id-1 div.sk-label input.sk-toggleable__control:checked~label.sk-toggleable__label {background-color: #d4ebff;}#sk-container-id-1 input.sk-hidden--visually {border: 0;clip: rect(1px 1px 1px 1px);clip: rect(1px, 1px, 1px, 1px);height: 1px;margin: -1px;overflow: hidden;padding: 0;position: absolute;width: 1px;}#sk-container-id-1 div.sk-estimator {font-family: monospace;background-color: #f0f8ff;border: 1px dotted black;border-radius: 0.25em;box-sizing: border-box;margin-bottom: 0.5em;}#sk-container-id-1 div.sk-estimator:hover {background-color: #d4ebff;}#sk-container-id-1 div.sk-parallel-item::after {content: \"\";width: 100%;border-bottom: 1px solid gray;flex-grow: 1;}#sk-container-id-1 div.sk-label:hover label.sk-toggleable__label {background-color: #d4ebff;}#sk-container-id-1 div.sk-serial::before {content: \"\";position: absolute;border-left: 1px solid gray;box-sizing: border-box;top: 0;bottom: 0;left: 50%;z-index: 0;}#sk-container-id-1 div.sk-serial {display: flex;flex-direction: column;align-items: center;background-color: white;padding-right: 0.2em;padding-left: 0.2em;position: relative;}#sk-container-id-1 div.sk-item {position: relative;z-index: 1;}#sk-container-id-1 div.sk-parallel {display: flex;align-items: stretch;justify-content: center;background-color: white;position: relative;}#sk-container-id-1 div.sk-item::before, #sk-container-id-1 div.sk-parallel-item::before {content: \"\";position: absolute;border-left: 1px solid gray;box-sizing: border-box;top: 0;bottom: 0;left: 50%;z-index: -1;}#sk-container-id-1 div.sk-parallel-item {display: flex;flex-direction: column;z-index: 1;position: relative;background-color: white;}#sk-container-id-1 div.sk-parallel-item:first-child::after {align-self: flex-end;width: 50%;}#sk-container-id-1 div.sk-parallel-item:last-child::after {align-self: flex-start;width: 50%;}#sk-container-id-1 div.sk-parallel-item:only-child::after {width: 0;}#sk-container-id-1 div.sk-dashed-wrapped {border: 1px dashed gray;margin: 0 0.4em 0.5em 0.4em;box-sizing: border-box;padding-bottom: 0.4em;background-color: white;}#sk-container-id-1 div.sk-label label {font-family: monospace;font-weight: bold;display: inline-block;line-height: 1.2em;}#sk-container-id-1 div.sk-label-container {text-align: center;}#sk-container-id-1 div.sk-container {/* jupyter's `normalize.less` sets `[hidden] { display: none; }` but bootstrap.min.css set `[hidden] { display: none !important; }` so we also need the `!important` here to be able to override the default hidden behavior on the sphinx rendered scikit-learn.org. See: https://github.com/scikit-learn/scikit-learn/issues/21755 */display: inline-block !important;position: relative;}#sk-container-id-1 div.sk-text-repr-fallback {display: none;}</style><div id=\"sk-container-id-1\" class=\"sk-top-container\"><div class=\"sk-text-repr-fallback\"><pre>LogisticRegression(max_iter=1000, random_state=42)</pre><b>In a Jupyter environment, please rerun this cell to show the HTML representation or trust the notebook. <br />On GitHub, the HTML representation is unable to render, please try loading this page with nbviewer.org.</b></div><div class=\"sk-container\" hidden><div class=\"sk-item\"><div class=\"sk-estimator sk-toggleable\"><input class=\"sk-toggleable__control sk-hidden--visually\" id=\"sk-estimator-id-1\" type=\"checkbox\" checked><label for=\"sk-estimator-id-1\" class=\"sk-toggleable__label sk-toggleable__label-arrow\">LogisticRegression</label><div class=\"sk-toggleable__content\"><pre>LogisticRegression(max_iter=1000, random_state=42)</pre></div></div></div></div></div>"
      ],
      "text/plain": [
       "LogisticRegression(max_iter=1000, random_state=42)"
      ]
     },
     "execution_count": 8,
     "metadata": {},
     "output_type": "execute_result"
    }
   ],
   "source": [
    "model_lr = LogisticRegression(\n",
    "                                random_state = 42, #random seed means that if you do random operations if you are not setting a state it will always produce different results\n",
    "                                max_iter = 1000  #how many iterations //if increase training time might be bit high\n",
    "                                )\n",
    "\n",
    "model_lr.fit(X_train, Y_train) "
   ]
  },
  {
   "cell_type": "markdown",
   "id": "49fa7818",
   "metadata": {},
   "source": [
    "### 6. Inference"
   ]
  },
  {
   "cell_type": "markdown",
   "id": "78d666e8",
   "metadata": {},
   "source": [
    "Y_hat = Y_hat_proba > 0.5  (this is the universal value using here)\n",
    "\n",
    "but in class inbalance situations like this cases this is not excatly clear, why,\n",
    "- in this case in 'test set' the classes are well over inbalanced\n",
    "    - '0' values are 1623\n",
    "    - '1' values are 376\n",
    "- so in this case  the model is tend to biased towards '0', because there are more 0 values than 1"
   ]
  },
  {
   "cell_type": "code",
   "execution_count": 11,
   "id": "f8457542",
   "metadata": {},
   "outputs": [],
   "source": [
    "Y_proba_train = model_lr.predict_proba(X_train)\n",
    "Y_proba_test = model_lr.predict_proba(X_test)"
   ]
  },
  {
   "cell_type": "markdown",
   "id": "958a4e4b",
   "metadata": {},
   "source": [
    "#### 6.1 Checking the class balance"
   ]
  },
  {
   "cell_type": "markdown",
   "id": "20ac3fc4",
   "metadata": {},
   "source": [
    "##### 6.1.1 Train set"
   ]
  },
  {
   "cell_type": "code",
   "execution_count": 18,
   "id": "845ce7a7",
   "metadata": {},
   "outputs": [
    {
     "data": {
      "application/vnd.microsoft.datawrangler.viewer.v0+json": {
       "columns": [
        {
         "name": "index",
         "rawType": "int64",
         "type": "integer"
        },
        {
         "name": "count",
         "rawType": "int64",
         "type": "integer"
        }
       ],
       "ref": "0958a4dc-c9c3-49ec-84c9-2c59ea1e65da",
       "rows": [
        [
         "0",
         "6334"
        ],
        [
         "1",
         "6334"
        ]
       ],
       "shape": {
        "columns": 1,
        "rows": 2
       }
      },
      "text/plain": [
       "0    6334\n",
       "1    6334\n",
       "Name: count, dtype: int64"
      ]
     },
     "execution_count": 18,
     "metadata": {},
     "output_type": "execute_result"
    }
   ],
   "source": [
    "pd.Series(Y_train).value_counts()"
   ]
  },
  {
   "cell_type": "markdown",
   "id": "91289773",
   "metadata": {},
   "source": [
    "##### 6.1.2 Test set"
   ]
  },
  {
   "cell_type": "code",
   "execution_count": 19,
   "id": "058e06a0",
   "metadata": {},
   "outputs": [
    {
     "data": {
      "application/vnd.microsoft.datawrangler.viewer.v0+json": {
       "columns": [
        {
         "name": "index",
         "rawType": "int64",
         "type": "integer"
        },
        {
         "name": "count",
         "rawType": "int64",
         "type": "integer"
        }
       ],
       "ref": "07165711-bc1f-44a1-80b3-d829dfbb952d",
       "rows": [
        [
         "0",
         "1623"
        ],
        [
         "1",
         "376"
        ]
       ],
       "shape": {
        "columns": 1,
        "rows": 2
       }
      },
      "text/plain": [
       "0    1623\n",
       "1     376\n",
       "Name: count, dtype: int64"
      ]
     },
     "execution_count": 19,
     "metadata": {},
     "output_type": "execute_result"
    }
   ],
   "source": [
    "pd.Series(Y_test).value_counts()"
   ]
  },
  {
   "cell_type": "code",
   "execution_count": 12,
   "id": "fcad2647",
   "metadata": {},
   "outputs": [
    {
     "data": {
      "text/plain": [
       "array([0, 0, 0, ..., 1, 1, 0], dtype=int64)"
      ]
     },
     "execution_count": 12,
     "metadata": {},
     "output_type": "execute_result"
    }
   ],
   "source": [
    "Y_hat_train"
   ]
  },
  {
   "cell_type": "code",
   "execution_count": 13,
   "id": "3eb81cdb",
   "metadata": {},
   "outputs": [
    {
     "data": {
      "text/plain": [
       "array([[0.83191774, 0.16808226],\n",
       "       [0.91485291, 0.08514709],\n",
       "       [0.74754112, 0.25245888],\n",
       "       ...,\n",
       "       [0.46464907, 0.53535093],\n",
       "       [0.36871924, 0.63128076],\n",
       "       [0.70486062, 0.29513938]])"
      ]
     },
     "execution_count": 13,
     "metadata": {},
     "output_type": "execute_result"
    }
   ],
   "source": [
    "Y_proba_train"
   ]
  },
  {
   "cell_type": "code",
   "execution_count": 24,
   "id": "cf9105e9",
   "metadata": {},
   "outputs": [
    {
     "data": {
      "image/png": "[encoded data removed]",
      "text/plain": [
       "<Figure size 640x480 with 1 Axes>"
      ]
     },
     "metadata": {},
     "output_type": "display_data"
    }
   ],
   "source": [
    "Y_lr_test = Y_proba_test[:, 1]\n",
    "\n",
    "plt.hist(Y_lr_test, bins=50)\n",
    "plt.xlabel('Probability')\n",
    "plt.ylabel('Count')\n",
    "plt.grid(True)\n",
    "\n",
    "plt.show()"
   ]
  },
  {
   "cell_type": "markdown",
   "id": "1bae4f01",
   "metadata": {},
   "source": [
    "In this case we can excatly see how this is biased(right skewed). in that case we can change the thresholds to see how it varies. in these cases you need to tweak the values to get it to a normal distribution like view...."
   ]
  },
  {
   "cell_type": "code",
   "execution_count": null,
   "id": "7422dc61",
   "metadata": {},
   "outputs": [
    {
     "data": {
      "text/plain": [
       "array([False, False, False, ..., False, False,  True])"
      ]
     },
     "execution_count": 54,
     "metadata": {},
     "output_type": "execute_result"
    }
   ],
   "source": [
    "Y_hat_test = Y_lr_test > 0.65   #increase this value what will happenes to the values.\n",
    "Y_hat_test"
   ]
  },
  {
   "cell_type": "markdown",
   "id": "3220b9eb",
   "metadata": {},
   "source": [
    "- if you moving your threshold towards <'1', what will happen to the '480' = decrease\n",
    "- if you moving your threshold towards <'1', what will happen to the '130' = increase\n",
    "---\n",
    "- if you moving your threshold lower than >'1', what will happen to the '480' = increase\n",
    "- if you moving your threshold lower than >'1', what will happen to the '480' = decrease\n",
    "\n",
    "There are more FP than FNs"
   ]
  },
  {
   "cell_type": "markdown",
   "id": "701717bb",
   "metadata": {},
   "source": [
    "### 7. Evaluation"
   ]
  },
  {
   "cell_type": "code",
   "execution_count": 53,
   "id": "3f35db47",
   "metadata": {},
   "outputs": [
    {
     "data": {
      "image/png": "[encoded data removed]",
      "text/plain": [
       "<Figure size 640x480 with 2 Axes>"
      ]
     },
     "metadata": {},
     "output_type": "display_data"
    }
   ],
   "source": [
    "cm = confusion_matrix(Y_test, Y_hat_test)\n",
    "sns.heatmap(cm, annot=True, fmt='d')\n",
    "plt.xlabel('Predicted')\n",
    "plt.ylabel('Actual')\n",
    "\n",
    "plt.show()"
   ]
  },
  {
   "cell_type": "markdown",
   "id": "8b0bb847",
   "metadata": {},
   "source": [
    "- now the '0.65' would be sort of balanced the cm. (not best but sort of) - not an ideal way\n",
    "- there are more ways than adjusting this by manually, using true positive rate and false positive rate also (ROC, AUC) "
   ]
  },
  {
   "cell_type": "markdown",
   "id": "6cdb4ae5",
   "metadata": {},
   "source": [
    "its like this:\n",
    "\n",
    "1. when 'actual' value is '0', model predicted it as '0' would be = 1143 values (True Negative)\n",
    "2. when 'actual' value is '0', model predicted it as '1' would be = 480 values (False Positive)\n",
    "3. when 'actual' value is '1', model predicted it as '0' would be = 130 values (False Negative)\n",
    "4. when 'actual' value is '1', model predicted it as '1' would be = 246 values (True Positive)"
   ]
  }
 ],
 "metadata": {
  "kernelspec": {
   "display_name": "newone",
   "language": "python",
   "name": "python3"
  },
  "language_info": {
   "codemirror_mode": {
    "name": "ipython",
    "version": 3
   },
   "file_extension": ".py",
   "mimetype": "text/x-python",
   "name": "python",
   "nbconvert_exporter": "python",
   "pygments_lexer": "ipython3",
   "version": "3.11.13"
  }
 },
 "nbformat": 4,
 "nbformat_minor": 5
}
